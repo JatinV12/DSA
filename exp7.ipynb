{
 "cells": [
  {
   "cell_type": "code",
   "execution_count": 2,
   "metadata": {},
   "outputs": [
    {
     "name": "stdout",
     "output_type": "stream",
     "text": [
      "hello\n"
     ]
    }
   ],
   "source": [
    "tuple1 = (1,2,3,'hello')\n",
    "print(tuple1[3])"
   ]
  },
  {
   "cell_type": "code",
   "execution_count": 12,
   "metadata": {},
   "outputs": [
    {
     "name": "stdout",
     "output_type": "stream",
     "text": [
      "(1, 2, 3, 'hello', 'my', 'name', 'is', 'shivam')\n",
      "length is 8\n"
     ]
    }
   ],
   "source": [
    "tuple2 = ('my','name','is','shivam')\n",
    "print(tuple1+tuple2)\n",
    "print('length is',len(tuple1+tuple2))"
   ]
  },
  {
   "cell_type": "code",
   "execution_count": 4,
   "metadata": {},
   "outputs": [
    {
     "name": "stdout",
     "output_type": "stream",
     "text": [
      "data type of list <class 'list'>\n",
      "data type after converting to tuple <class 'tuple'>\n"
     ]
    }
   ],
   "source": [
    "#list to tuple\n",
    "list1= [1,2,3,4,5,6,6]\n",
    "tuple_list1= tuple(list1)\n",
    "print('data type of list',type(list1))\n",
    "print('data type after converting to tuple',type(tuple_list1))"
   ]
  },
  {
   "cell_type": "code",
   "execution_count": 5,
   "metadata": {},
   "outputs": [
    {
     "name": "stdout",
     "output_type": "stream",
     "text": [
      "7\n",
      "(1, 3, 5, 6)\n"
     ]
    }
   ],
   "source": [
    "print(len(tuple_list1))\n",
    "print(tuple_list1[0:7:2])"
   ]
  },
  {
   "cell_type": "code",
   "execution_count": 6,
   "metadata": {},
   "outputs": [
    {
     "name": "stdout",
     "output_type": "stream",
     "text": [
      "<class 'tuple'>\n",
      "<class 'str'>\n"
     ]
    }
   ],
   "source": [
    "thistuple = (\"apple\",)\n",
    "print(type(thistuple))\n",
    "\n",
    "#NOT a tuple\n",
    "thistuple = (\"apple\")\n",
    "print(type(thistuple))\n"
   ]
  },
  {
   "cell_type": "markdown",
   "metadata": {},
   "source": [
    "# wapp convert tuple to list by adding the given string after every element\n"
   ]
  },
  {
   "cell_type": "code",
   "execution_count": 13,
   "metadata": {},
   "outputs": [
    {
     "name": "stdout",
     "output_type": "stream",
     "text": [
      "[1, 'Shivam', 2, 'Shivam', 3, 'Shivam', 4, 'Shivam']\n"
     ]
    }
   ],
   "source": [
    "my_tuple=(1,2,3,4)\n",
    "name='Shivam'\n",
    "\n",
    "new_list = []\n",
    "for item in my_tuple:\n",
    "    new_list.append(item)\n",
    "    new_list.append(name)\n",
    "print(new_list)"
   ]
  },
  {
   "cell_type": "markdown",
   "metadata": {},
   "source": [
    "# convert list of list to tuple of tuples\n"
   ]
  },
  {
   "cell_type": "code",
   "execution_count": 10,
   "metadata": {},
   "outputs": [
    {
     "name": "stdout",
     "output_type": "stream",
     "text": [
      "((1, 3), (6, 4), (5, 2))\n"
     ]
    }
   ],
   "source": [
    "\n",
    "list_of_lists = [[1, 3], [6, 4], [5, 2]]\n",
    "tuple_of_tuples = tuple(tuple(inner_list) for inner_list in list_of_lists)\n",
    "print(tuple_of_tuples)\n"
   ]
  },
  {
   "cell_type": "markdown",
   "metadata": {},
   "source": [
    "# convert tuple to float value \n"
   ]
  },
  {
   "cell_type": "code",
   "execution_count": 9,
   "metadata": {},
   "outputs": [
    {
     "name": "stdout",
     "output_type": "stream",
     "text": [
      "Float value: 3.14\n"
     ]
    }
   ],
   "source": [
    "input_tuple = (3.14,)  \n",
    "float_value = float(input_tuple[0])\n",
    "print(\"Float value:\", float_value)"
   ]
  },
  {
   "cell_type": "markdown",
   "metadata": {},
   "source": [
    "# prog to sort a tuple to a maximum value"
   ]
  },
  {
   "cell_type": "code",
   "execution_count": 11,
   "metadata": {},
   "outputs": [
    {
     "name": "stdout",
     "output_type": "stream",
     "text": [
      "Sorted tuples in descending order: ((9, 6, 5), (8, 6, 1), (8, 7, 5))\n"
     ]
    }
   ],
   "source": [
    "t = ((9, 5, 6), (8, 1, 6), (5, 8, 7))\n",
    "sorted_desc = tuple(tuple(sorted(sub_tuple, reverse=True)) for sub_tuple in t)\n",
    "print(\"Sorted tuples in descending order:\", sorted_desc)\n"
   ]
  }
 ],
 "metadata": {
  "kernelspec": {
   "display_name": "base",
   "language": "python",
   "name": "python3"
  },
  "language_info": {
   "codemirror_mode": {
    "name": "ipython",
    "version": 3
   },
   "file_extension": ".py",
   "mimetype": "text/x-python",
   "name": "python",
   "nbconvert_exporter": "python",
   "pygments_lexer": "ipython3",
   "version": "3.11.5"
  }
 },
 "nbformat": 4,
 "nbformat_minor": 2
}
